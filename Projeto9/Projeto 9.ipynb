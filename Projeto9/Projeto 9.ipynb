{
 "cells": [
  {
   "cell_type": "code",
   "execution_count": 50,
   "metadata": {
    "collapsed": true
   },
   "outputs": [],
   "source": [
    "import pandas as pd\n",
    "import numpy as np\n",
    "\n",
    "def erro_quadratico(df):\n",
    "    dif = df['read'] - df['expected']\n",
    "    return dif**2\n",
    "\n",
    "def ignore_255(df):\n",
    "    return df[df['read'] < 255]\n",
    "\n",
    "def erros_pequenos(df):\n",
    "    return df[(df['read'] - df['expected']) <10]\n",
    "\n",
    "def infos_limpas(nome_do_arquivo):\n",
    "    # Retorna um dataframe limpo, sem considerar outliers\n",
    "    df = pd.read_csv(nome_do_arquivo)\n",
    "    df = ignore_255(df)\n",
    "    df = erros_pequenos(df)\n",
    "    return df\n",
    "\n",
    "def mean_std_var(col):\n",
    "    col.mean(), col.std(), col.var()\n",
    "\n",
    "def plot_histogram():\n",
    "    pass\n"
   ]
  },
  {
   "cell_type": "code",
   "execution_count": 51,
   "metadata": {
    "collapsed": true
   },
   "outputs": [],
   "source": [
    "df = infos_limpas('data/num/primeira.txt')"
   ]
  },
  {
   "cell_type": "code",
   "execution_count": 53,
   "metadata": {},
   "outputs": [
    {
     "data": {
      "text/plain": [
       "7.175"
      ]
     },
     "execution_count": 53,
     "metadata": {},
     "output_type": "execute_result"
    }
   ],
   "source": [
    "df['read'].mean()"
   ]
  },
  {
   "cell_type": "code",
   "execution_count": 54,
   "metadata": {},
   "outputs": [
    {
     "data": {
      "text/plain": [
       "1.0283943488316436"
      ]
     },
     "execution_count": 54,
     "metadata": {},
     "output_type": "execute_result"
    }
   ],
   "source": [
    "df['read'].std()"
   ]
  },
  {
   "cell_type": "code",
   "execution_count": 55,
   "metadata": {},
   "outputs": [
    {
     "data": {
      "text/plain": [
       "1.0575949367088604"
      ]
     },
     "execution_count": 55,
     "metadata": {},
     "output_type": "execute_result"
    }
   ],
   "source": [
    "df['read'].var()"
   ]
  },
  {
   "cell_type": "code",
   "execution_count": null,
   "metadata": {
    "collapsed": true
   },
   "outputs": [],
   "source": []
  }
 ],
 "metadata": {
  "kernelspec": {
   "display_name": "Python 3",
   "language": "python",
   "name": "python3"
  },
  "language_info": {
   "codemirror_mode": {
    "name": "ipython",
    "version": 3
   },
   "file_extension": ".py",
   "mimetype": "text/x-python",
   "name": "python",
   "nbconvert_exporter": "python",
   "pygments_lexer": "ipython3",
   "version": "3.6.3"
  }
 },
 "nbformat": 4,
 "nbformat_minor": 2
}
